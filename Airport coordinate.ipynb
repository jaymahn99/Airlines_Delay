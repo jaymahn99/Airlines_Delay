{
 "cells": [
  {
   "cell_type": "markdown",
   "id": "db086133",
   "metadata": {},
   "source": [
    "# Airport coordinate download\n",
    "In this notebook we tried to build our dataset in order to have the coordinates for every airport.\n",
    "The key concept is that we try to look for them on OpenStreetMap (https://www.openstreetmap.org/#map=5/41.951/-103.359) for the \"ATL airport\" and save the coordinates of the first instance that we can find.\n",
    "If OSM research failes, we need to look for them manually and store them in a dictionary."
   ]
  },
  {
   "cell_type": "code",
   "execution_count": null,
   "id": "96aeaa15",
   "metadata": {},
   "outputs": [],
   "source": [
    "import folium\n",
    "from folium import plugins\n",
    "import pandas as pd\n",
    "import plotly.express as px\n",
    "import os\n",
    "import numpy as np\n",
    "import osmnx as ox"
   ]
  },
  {
   "cell_type": "code",
   "execution_count": null,
   "id": "0cd4045d",
   "metadata": {},
   "outputs": [],
   "source": [
    "# Import DataFrame\n",
    "df = pd.read_csv(os.getcwd() + '/airlinedelaycauses_DelayedFlights_Filtered.csv')"
   ]
  },
  {
   "cell_type": "code",
   "execution_count": null,
   "id": "ffef21af",
   "metadata": {},
   "outputs": [],
   "source": [
    "# We have looked for these one manually\n",
    "not_found_airport = {\n",
    " 'OMA': (41.3032, 95.8942),\n",
    " 'MLU': (32.5102, 92.0377),\n",
    " 'CPR': (42.9036, 106.4647),\n",
    " 'TEX': (37.9538, 107.9087),\n",
    " 'HDN': (40.4886, 107.2191),\n",
    " 'IYK': (35.6586, 117.8281),\n",
    " 'COD': (44.5207, -109.0245),\n",
    " 'CDC': (37.7044, -113.0984),\n",
    " 'PFN': (30.2121, -85.6828),\n",
    " 'GTR': (33.4504, -88.5914),\n",
    " 'EYW': (24.5561, -81.7587),\n",
    " 'ROW': (33.3083, -104.5259),\n",
    " 'SUX': (42.4026, -96.3846),\n",
    " 'BRW': (71.2874, -156.7725),\n",
    " 'SCC': (70.1948, -148.4652),\n",
    " 'ADQ': (57.7498, -152.4937),\n",
    " 'WRG': (56.4843, -132.3698),\n",
    " 'OTZ': (66.8847, -162.5983),\n",
    " 'RKS': (41.5942, -109.0652),\n",
    " 'MKG': (43.1699, -86.2389),\n",
    " 'AKN': (58.6768, -156.6492),\n",
    " 'WYS': (44.6884, -111.1177),\n",
    " 'INL': (48.5662, -93.4004)\n",
    "}"
   ]
  },
  {
   "cell_type": "code",
   "execution_count": null,
   "id": "c0c4e6cc",
   "metadata": {},
   "outputs": [],
   "source": [
    "# Define the function that will be called once for each airport\n",
    "def get_airport_coordinates(initials):\n",
    "    # Create a query to get airport data based on the initials\n",
    "    query = f\"{initials} airport\"\n",
    "    if initials in not_found_airport:\n",
    "        res = not_found_airport[initials]\n",
    "        print(f\"s: {initials} - lat {res[0]} - long {res[1]}\")\n",
    "        return res\n",
    "\n",
    "    # Get the graph of the surrounding area\n",
    "    graph = ox.graph_from_place(query, network_type='all')\n",
    "    \n",
    "    # Find the nearest node to the airport's centroid -> i.e the closest thing OSM can find at the center of the screen after executing the query\n",
    "    centroid = ox.distance.nearest_nodes(graph, 0, 0)\n",
    "\n",
    "    # Extract the latitude and longitude of the centroid node\n",
    "    latitude = graph.nodes[centroid]['y']\n",
    "    longitude = graph.nodes[centroid]['x']\n",
    "    print(f\"s: {initials} - lat {latitude} - long {longitude}\")\n",
    "\n",
    "    return latitude, longitude"
   ]
  },
  {
   "cell_type": "code",
   "execution_count": null,
   "id": "c2609f83",
   "metadata": {},
   "outputs": [],
   "source": [
    "# Get a list of each airport mentioned in the dataset at least once\n",
    "airports_initials = df['Origin'].unique().tolist()\n",
    "print(len(airports_initials))\n",
    "\n",
    "# Create an empty list, it will be converted in the final dataframe\n",
    "airports_coord = []\n",
    "i = 0\n",
    "for initials in airports_initials: # For eache airport\n",
    "    print(initials, i)\n",
    "    i += 1\n",
    "    # Get latitude and longitude \n",
    "    lat, lon = get_airport_coordinates(initials)\n",
    "    \n",
    "    # And add them to the list \n",
    "    airports_coord.append({'Airport': initials, 'Latitudine': lat, 'Longitudine': lon})\n",
    "\n",
    "# Convert the list to a dataframe\n",
    "coord_df = pd.DataFrame(airports_coord)\n",
    "coord_df.head()"
   ]
  },
  {
   "cell_type": "code",
   "execution_count": null,
   "id": "235cf396",
   "metadata": {},
   "outputs": [],
   "source": [
    "# Reset index for clarity\n",
    "coord_df.set_index('Airport', inplace=True)\n",
    "coord_df.head()"
   ]
  },
  {
   "cell_type": "code",
   "execution_count": null,
   "id": "4fd2a3db",
   "metadata": {},
   "outputs": [],
   "source": [
    "# Export it as a csv file\n",
    "coord_df.to_csv('airport_coords.csv')"
   ]
  },
  {
   "cell_type": "code",
   "execution_count": null,
   "id": "82c9699b",
   "metadata": {},
   "outputs": [],
   "source": []
  }
 ],
 "metadata": {
  "kernelspec": {
   "display_name": "Python 3 (ipykernel)",
   "language": "python",
   "name": "python3"
  },
  "language_info": {
   "codemirror_mode": {
    "name": "ipython",
    "version": 3
   },
   "file_extension": ".py",
   "mimetype": "text/x-python",
   "name": "python",
   "nbconvert_exporter": "python",
   "pygments_lexer": "ipython3",
   "version": "3.10.12"
  }
 },
 "nbformat": 4,
 "nbformat_minor": 5
}
